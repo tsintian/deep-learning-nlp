{
 "cells": [
  {
   "cell_type": "code",
   "execution_count": 1,
   "metadata": {},
   "outputs": [],
   "source": [
    "import numpy\n",
    "from keras.models import Sequential\n",
    "from keras.layers import Dense\n",
    "from keras.layers import Dropout\n",
    "from keras.layers import LSTM\n",
    "from keras.callbacks import ModelCheckpoint\n",
    "from keras.utils import  np_utils"
   ]
  },
  {
   "cell_type": "code",
   "execution_count": 12,
   "metadata": {},
   "outputs": [],
   "source": [
    "raw_text = open('./data/5400.txt').read()\n",
    "raw_text = raw_text.lower()"
   ]
  },
  {
   "cell_type": "code",
   "execution_count": 16,
   "metadata": {},
   "outputs": [
    {
     "data": {
      "text/plain": [
       "'the p'"
      ]
     },
     "execution_count": 16,
     "metadata": {},
     "output_type": "execute_result"
    }
   ],
   "source": [
    "raw_text[0:5]"
   ]
  },
  {
   "cell_type": "markdown",
   "metadata": {},
   "source": [
    "### We are going to use one-hot to code all the characters."
   ]
  },
  {
   "cell_type": "code",
   "execution_count": 24,
   "metadata": {},
   "outputs": [],
   "source": [
    "chars = sorted(list(set(raw_text)))\n",
    "char_to_int = dict((c, i) for i, c in enumerate(chars))\n",
    "int_to_char = dict((i, c) for i, c in enumerate(chars))"
   ]
  },
  {
   "cell_type": "code",
   "execution_count": 8,
   "metadata": {
    "collapsed": true
   },
   "outputs": [
    {
     "data": {
      "text/plain": [
       "['\\n',\n",
       " ' ',\n",
       " '!',\n",
       " '\"',\n",
       " '#',\n",
       " '$',\n",
       " '%',\n",
       " '&',\n",
       " \"'\",\n",
       " '(',\n",
       " ')',\n",
       " '*',\n",
       " ',',\n",
       " '-',\n",
       " '.',\n",
       " '/',\n",
       " '0',\n",
       " '1',\n",
       " '2',\n",
       " '3',\n",
       " '4',\n",
       " '5',\n",
       " '6',\n",
       " '7',\n",
       " '8',\n",
       " '9',\n",
       " ':',\n",
       " ';',\n",
       " '=',\n",
       " '?',\n",
       " '@',\n",
       " '[',\n",
       " ']',\n",
       " '`',\n",
       " 'a',\n",
       " 'b',\n",
       " 'c',\n",
       " 'd',\n",
       " 'e',\n",
       " 'f',\n",
       " 'g',\n",
       " 'h',\n",
       " 'i',\n",
       " 'j',\n",
       " 'k',\n",
       " 'l',\n",
       " 'm',\n",
       " 'n',\n",
       " 'o',\n",
       " 'p',\n",
       " 'q',\n",
       " 'r',\n",
       " 's',\n",
       " 't',\n",
       " 'u',\n",
       " 'v',\n",
       " 'w',\n",
       " 'x',\n",
       " 'y',\n",
       " 'z',\n",
       " '|']"
      ]
     },
     "execution_count": 8,
     "metadata": {},
     "output_type": "execute_result"
    }
   ],
   "source": [
    "chars"
   ]
  },
  {
   "cell_type": "code",
   "execution_count": 9,
   "metadata": {},
   "outputs": [
    {
     "data": {
      "text/plain": [
       "61"
      ]
     },
     "execution_count": 9,
     "metadata": {},
     "output_type": "execute_result"
    }
   ],
   "source": [
    "len(chars)"
   ]
  },
  {
   "cell_type": "code",
   "execution_count": 10,
   "metadata": {},
   "outputs": [
    {
     "data": {
      "text/plain": [
       "9350571"
      ]
     },
     "execution_count": 10,
     "metadata": {},
     "output_type": "execute_result"
    }
   ],
   "source": [
    "len(raw_text)"
   ]
  },
  {
   "cell_type": "markdown",
   "metadata": {},
   "source": [
    "### Generating training and test dataset.\n",
    "\n",
    "We need to transform our data into traing dataset which looks like (x, y), among them, x is the previous character of y."
   ]
  },
  {
   "cell_type": "code",
   "execution_count": 23,
   "metadata": {},
   "outputs": [
    {
     "name": "stdout",
     "output_type": "stream",
     "text": [
      "the projec\n",
      "t\n",
      "the project\n",
      "th\n",
      "e\n"
     ]
    }
   ],
   "source": [
    "print(raw_text[0: 10])\n",
    "print(raw_text[10])\n",
    "print(raw_text[0: 11])\n",
    "print(raw_text[0:2])\n",
    "print(raw_text[2])"
   ]
  },
  {
   "cell_type": "code",
   "execution_count": 28,
   "metadata": {},
   "outputs": [],
   "source": [
    "seq_length = 100 #context length 前后语境的长度\n",
    "x = []\n",
    "y = []\n",
    "\n",
    "for i in range(0, len(raw_text), seq_length):\n",
    "    if i + seq_length < len(raw_text):\n",
    "        given = raw_text[i: i+ seq_length ]\n",
    "        predict = raw_text[i + seq_length]\n",
    "        x.append([chars_to_int[char] for char in given])\n",
    "        y.append(char_to_int[predict])\n",
    "    \n",
    "\n"
   ]
  },
  {
   "cell_type": "code",
   "execution_count": 33,
   "metadata": {},
   "outputs": [
    {
     "name": "stdout",
     "output_type": "stream",
     "text": [
      "[[53, 41, 38, 1, 49, 51, 48, 43, 38, 36, 53, 1, 40, 54, 53, 38, 47, 35, 38, 51, 40, 1, 38, 35, 48, 48, 44, 1, 48, 39, 1, 53, 41, 38, 1, 36, 48, 46, 49, 45, 38, 53, 38, 1, 49, 40, 1, 38, 37, 42, 53, 42, 48, 47, 1, 48, 39, 1, 53, 41, 38, 1, 56, 48, 51, 44, 52, 1, 48, 39, 0, 56, 42, 47, 52, 53, 48, 47, 1, 36, 41, 54, 51, 36, 41, 42, 45, 45, 12, 1, 35, 58, 1, 56, 42, 47, 52, 53, 48, 47]]\n",
      "[1]\n"
     ]
    }
   ],
   "source": [
    "print(x[:1])\n",
    "print(y[:1])"
   ]
  },
  {
   "cell_type": "markdown",
   "metadata": {},
   "source": [
    "1. 现在已经有了input的数字表达式，　下一步需要把它变成LSTM需要的数组格式：[样本数，时间步伐，特征]。\n",
    "2. 用one-hot做output的预测可以给我们带来更好的效果，相对于直接预测下一个准确的y数值。"
   ]
  },
  {
   "cell_type": "code",
   "execution_count": 34,
   "metadata": {},
   "outputs": [],
   "source": [
    "n_patterns = len(x)\n",
    "n_vocab = len(chars)\n",
    "\n",
    "#把ｘ转换成ＬＳＴＭ需要的格式\n",
    "x = np.reshape(x, (n_patterns, seq_length, 1))\n",
    "# 把ｘ简单归一到０－１之间\n",
    "x = x/float(n_vocab)\n",
    "y = np_utils.to_categorical(y)\n"
   ]
  },
  {
   "cell_type": "code",
   "execution_count": 35,
   "metadata": {
    "collapsed": true
   },
   "outputs": [
    {
     "name": "stdout",
     "output_type": "stream",
     "text": [
      "[[0.73770492]\n",
      " [0.62295082]\n",
      " [0.57377049]\n",
      " [0.83606557]\n",
      " [0.68852459]\n",
      " [0.86885246]\n",
      " [0.95081967]\n",
      " [0.        ]\n",
      " [0.01639344]\n",
      " [0.01639344]\n",
      " [0.01639344]\n",
      " [0.01639344]\n",
      " [0.01639344]\n",
      " [0.86885246]\n",
      " [0.67213115]\n",
      " [0.62295082]\n",
      " [0.01639344]\n",
      " [0.59016393]\n",
      " [0.83606557]\n",
      " [0.68852459]\n",
      " [0.85245902]\n",
      " [0.68852459]\n",
      " [0.85245902]\n",
      " [0.        ]\n",
      " [0.01639344]\n",
      " [0.01639344]\n",
      " [0.01639344]\n",
      " [0.01639344]\n",
      " [0.01639344]\n",
      " [0.60655738]\n",
      " [0.83606557]\n",
      " [0.2295082 ]\n",
      " [0.01639344]\n",
      " [0.70491803]\n",
      " [0.78688525]\n",
      " [0.7704918 ]\n",
      " [0.55737705]\n",
      " [0.86885246]\n",
      " [0.67213115]\n",
      " [0.55737705]\n",
      " [0.7704918 ]\n",
      " [0.01639344]\n",
      " [0.14754098]\n",
      " [0.80327869]\n",
      " [0.73770492]\n",
      " [0.55737705]\n",
      " [0.95081967]\n",
      " [0.16393443]\n",
      " [0.        ]\n",
      " [0.01639344]\n",
      " [0.01639344]\n",
      " [0.01639344]\n",
      " [0.01639344]\n",
      " [0.01639344]\n",
      " [0.55737705]\n",
      " [0.01639344]\n",
      " [0.86885246]\n",
      " [0.83606557]\n",
      " [0.55737705]\n",
      " [0.90163934]\n",
      " [0.62295082]\n",
      " [0.73770492]\n",
      " [0.73770492]\n",
      " [0.62295082]\n",
      " [0.83606557]\n",
      " [0.01639344]\n",
      " [0.68852459]\n",
      " [0.7704918 ]\n",
      " [0.01639344]\n",
      " [0.91803279]\n",
      " [0.55737705]\n",
      " [0.83606557]\n",
      " [0.86885246]\n",
      " [0.68852459]\n",
      " [0.75409836]\n",
      " [0.62295082]\n",
      " [0.        ]\n",
      " [0.01639344]\n",
      " [0.01639344]\n",
      " [0.01639344]\n",
      " [0.01639344]\n",
      " [0.01639344]\n",
      " [0.55737705]\n",
      " [0.7704918 ]\n",
      " [0.01639344]\n",
      " [0.62295082]\n",
      " [0.85245902]\n",
      " [0.85245902]\n",
      " [0.55737705]\n",
      " [0.95081967]\n",
      " [0.01639344]\n",
      " [0.78688525]\n",
      " [0.7704918 ]\n",
      " [0.01639344]\n",
      " [0.86885246]\n",
      " [0.67213115]\n",
      " [0.62295082]\n",
      " [0.01639344]\n",
      " [0.55737705]\n",
      " [0.75409836]]\n",
      "[0. 0. 0. 0. 0. 0. 0. 0. 0. 0. 0. 0. 0. 0. 0. 0. 0. 0. 0. 0. 0. 0. 0. 0.\n",
      " 0. 0. 0. 0. 0. 0. 0. 0. 0. 0. 0. 0. 0. 0. 1. 0. 0. 0. 0. 0. 0. 0. 0. 0.\n",
      " 0. 0. 0. 0. 0. 0. 0. 0. 0. 0. 0. 0.]\n"
     ]
    }
   ],
   "source": [
    "print(x[11])\n",
    "print(y[11])"
   ]
  },
  {
   "cell_type": "code",
   "execution_count": 36,
   "metadata": {},
   "outputs": [
    {
     "name": "stdout",
     "output_type": "stream",
     "text": [
      "(93505, 100, 1)\n",
      "(93505, 60)\n"
     ]
    }
   ],
   "source": [
    "print(x.shape)\n",
    "print(y.shape)"
   ]
  },
  {
   "cell_type": "markdown",
   "metadata": {},
   "source": [
    "### 模型构建\n"
   ]
  },
  {
   "cell_type": "code",
   "execution_count": 38,
   "metadata": {},
   "outputs": [],
   "source": [
    "model = Sequential()\n",
    "model.add(LSTM(128, input_shape=(x.shape[1], x.shape[2])))\n",
    "model.add(Dropout(0.2))\n",
    "model.add(Dense(y.shape[1], activation='softmax'))\n",
    "model.compile(loss='categorical_crossentropy', optimizer='adam')"
   ]
  },
  {
   "cell_type": "code",
   "execution_count": 39,
   "metadata": {},
   "outputs": [
    {
     "name": "stdout",
     "output_type": "stream",
     "text": [
      "Epoch 1/10\n",
      "93505/93505 [==============================] - 494s 5ms/step - loss: 2.9625\n",
      "Epoch 2/10\n",
      "93505/93505 [==============================] - 456s 5ms/step - loss: 2.8389\n",
      "Epoch 3/10\n",
      "93505/93505 [==============================] - 456s 5ms/step - loss: 2.7946\n",
      "Epoch 4/10\n",
      "93505/93505 [==============================] - 456s 5ms/step - loss: 2.7577\n",
      "Epoch 5/10\n",
      "93505/93505 [==============================] - 456s 5ms/step - loss: 2.7299\n",
      "Epoch 6/10\n",
      "93505/93505 [==============================] - 457s 5ms/step - loss: 2.7060\n",
      "Epoch 7/10\n",
      "93505/93505 [==============================] - 565s 6ms/step - loss: 2.6840\n",
      "Epoch 8/10\n",
      "93505/93505 [==============================] - 487s 5ms/step - loss: 2.6626\n",
      "Epoch 9/10\n",
      "93505/93505 [==============================] - 586s 6ms/step - loss: 2.6415\n",
      "Epoch 10/10\n",
      "93505/93505 [==============================] - 603s 6ms/step - loss: 2.6248\n"
     ]
    },
    {
     "data": {
      "text/plain": [
       "<keras.callbacks.History at 0x7fb75c236dd8>"
      ]
     },
     "execution_count": 39,
     "metadata": {},
     "output_type": "execute_result"
    }
   ],
   "source": [
    "model.fit(x,y, epochs=10, batch_size=32)"
   ]
  },
  {
   "cell_type": "code",
   "execution_count": 46,
   "metadata": {
    "collapsed": true
   },
   "outputs": [
    {
     "name": "stdout",
     "output_type": "stream",
     "text": [
      "_________________________________________________________________\n",
      "Layer (type)                 Output Shape              Param #   \n",
      "=================================================================\n",
      "lstm_1 (LSTM)                (None, 128)               66560     \n",
      "_________________________________________________________________\n",
      "dropout_1 (Dropout)          (None, 128)               0         \n",
      "_________________________________________________________________\n",
      "dense_1 (Dense)              (None, 60)                7740      \n",
      "=================================================================\n",
      "Total params: 74,300\n",
      "Trainable params: 74,300\n",
      "Non-trainable params: 0\n",
      "_________________________________________________________________\n"
     ]
    }
   ],
   "source": [
    "model.summary()"
   ]
  },
  {
   "cell_type": "markdown",
   "metadata": {},
   "source": [
    "#### 训练完后，查看训练的效果"
   ]
  },
  {
   "cell_type": "code",
   "execution_count": 40,
   "metadata": {},
   "outputs": [],
   "source": [
    "def predict_next(input_array):\n",
    "    x = np.reshape(input_array, (1, seq_length, 1))\n",
    "    x = x / float(n_vocab)\n",
    "    y = model.predict(x)\n",
    "    return y \n"
   ]
  },
  {
   "cell_type": "code",
   "execution_count": 41,
   "metadata": {},
   "outputs": [],
   "source": [
    "def string_to_index(raw_input):\n",
    "    res = []\n",
    "    for c in raw_input[len(raw_input) - seq_length :]:\n",
    "        res.append(char_to_int[c])\n",
    "    return res\n"
   ]
  },
  {
   "cell_type": "code",
   "execution_count": 42,
   "metadata": {},
   "outputs": [],
   "source": [
    "def y_to_char(y):\n",
    "    largest_index = y.argmax()\n",
    "    c = int_to_char[largest_index]\n",
    "    return c"
   ]
  },
  {
   "cell_type": "code",
   "execution_count": 43,
   "metadata": {},
   "outputs": [],
   "source": [
    "def generate_article(init, rounds = 500):\n",
    "    in_string = init.lower()\n",
    "    for i in range(rounds):\n",
    "        n = y_to_char(predict_next(string_to_index(in_string)))\n",
    "        in_string +=n \n",
    "    return in_string"
   ]
  },
  {
   "cell_type": "code",
   "execution_count": 47,
   "metadata": {},
   "outputs": [
    {
     "name": "stdout",
     "output_type": "stream",
     "text": [
      "professor wichael s. hart is the originator of the project professor wichael s. hart is the originator of the project of the sante to the sare to the sane to the sane to the sane to the sare to the sane to the sare to the sane to the sane to the sane to the sane to the sane to the sane to the sane to the sane to the sane to the sane to the sane to the sane to the sane to the sane to the sane to the sane to the sane to the sane to the sane to the sane to the sane to the sane to the sane to the sane to the sane to the sane to the sane to the sane to the sane to the sane to the sane to the sane to the sane to the\n"
     ]
    }
   ],
   "source": [
    "init = 'Professor Wichael S. Hart is the originator of the Project Professor Wichael S. Hart is the originator of the Project'\n",
    "article = generate_article(init=init)\n",
    "print(article)"
   ]
  },
  {
   "cell_type": "code",
   "execution_count": 45,
   "metadata": {},
   "outputs": [
    {
     "name": "stdout",
     "output_type": "stream",
     "text": [
      "58\n"
     ]
    }
   ],
   "source": [
    "print(len(init))"
   ]
  },
  {
   "cell_type": "code",
   "execution_count": null,
   "metadata": {},
   "outputs": [],
   "source": []
  },
  {
   "cell_type": "code",
   "execution_count": null,
   "metadata": {},
   "outputs": [],
   "source": []
  },
  {
   "cell_type": "code",
   "execution_count": null,
   "metadata": {},
   "outputs": [],
   "source": []
  }
 ],
 "metadata": {
  "kernelspec": {
   "display_name": "Python 3",
   "language": "python",
   "name": "python3"
  },
  "language_info": {
   "codemirror_mode": {
    "name": "ipython",
    "version": 3
   },
   "file_extension": ".py",
   "mimetype": "text/x-python",
   "name": "python",
   "nbconvert_exporter": "python",
   "pygments_lexer": "ipython3",
   "version": "3.6.5"
  },
  "latex_envs": {
   "LaTeX_envs_menu_present": true,
   "autoclose": false,
   "autocomplete": true,
   "bibliofile": "biblio.bib",
   "cite_by": "apalike",
   "current_citInitial": 1,
   "eqLabelWithNumbers": true,
   "eqNumInitial": 1,
   "hotkeys": {
    "equation": "Ctrl-E",
    "itemize": "Ctrl-I"
   },
   "labels_anchors": false,
   "latex_user_defs": false,
   "report_style_numbering": false,
   "user_envs_cfg": false
  },
  "varInspector": {
   "cols": {
    "lenName": 16,
    "lenType": 16,
    "lenVar": 40
   },
   "kernels_config": {
    "python": {
     "delete_cmd_postfix": "",
     "delete_cmd_prefix": "del ",
     "library": "var_list.py",
     "varRefreshCmd": "print(var_dic_list())"
    },
    "r": {
     "delete_cmd_postfix": ") ",
     "delete_cmd_prefix": "rm(",
     "library": "var_list.r",
     "varRefreshCmd": "cat(var_dic_list()) "
    }
   },
   "position": {
    "height": "275px",
    "left": "1483px",
    "right": "20px",
    "top": "120px",
    "width": "350px"
   },
   "types_to_exclude": [
    "module",
    "function",
    "builtin_function_or_method",
    "instance",
    "_Feature"
   ],
   "window_display": false
  }
 },
 "nbformat": 4,
 "nbformat_minor": 2
}
